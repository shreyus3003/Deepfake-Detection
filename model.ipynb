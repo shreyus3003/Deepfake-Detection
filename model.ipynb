{
  "nbformat": 4,
  "nbformat_minor": 0,
  "metadata": {
    "accelerator": "GPU",
    "colab": {
      "name": "model.ipynb",
      "provenance": [],
      "collapsed_sections": [],
      "machine_shape": "hm",
      "include_colab_link": true
    },
    "kernelspec": {
      "display_name": "Python 3",
      "language": "python",
      "name": "python3"
    },
    "language_info": {
      "codemirror_mode": {
        "name": "ipython",
        "version": 3
      },
      "file_extension": ".py",
      "mimetype": "text/x-python",
      "name": "python",
      "nbconvert_exporter": "python",
      "pygments_lexer": "ipython3",
      "version": "3.7.3"
    }
  },
  "cells": [
    {
      "cell_type": "markdown",
      "metadata": {
        "id": "view-in-github",
        "colab_type": "text"
      },
      "source": [
        "<a href=\"https://colab.research.google.com/github/shreyus3003/Deepfake-Detection/blob/main/model.ipynb\" target=\"_parent\"><img src=\"https://colab.research.google.com/assets/colab-badge.svg\" alt=\"Open In Colab\"/></a>"
      ]
    },
    {
      "cell_type": "code",
      "metadata": {
        "colab": {
          "base_uri": "https://localhost:8080/",
          "height": 97
        },
        "id": "oiSXaVSG7xwc",
        "outputId": "3c142edb-fad9-4543-d36f-8ee5c9987711"
      },
      "source": [
        "import keras\n",
        "import tensorflow as tf\n",
        "from keras import layers,Model\n",
        "from keras import models\n",
        "from keras.preprocessing.image import ImageDataGenerator\n",
        "from keras.layers import Dropout,InputLayer,Flatten,Dense,BatchNormalization,MaxPooling2D,Conv2D,Input,Concatenate,LeakyReLU\n",
        "from keras import optimizers\n",
        "from keras.callbacks import ModelCheckpoint\n",
        "from keras.utils import to_categorical,normalize\n",
        "from keras.applications.xception import Xception,preprocess_input\n",
        "from keras.callbacks import EarlyStopping\n",
        "from keras.callbacks import ModelCheckpoint,TensorBoard\n",
        "import numpy as np\n",
        "import joblib\n",
        "import matplotlib.pyplot as plt\n",
        "import os\n",
        "import cv2\n",
        "from tqdm import tqdm_notebook as tqdm\n",
        "import warnings\n",
        "import keras.backend as K\n",
        "import random\n",
        "warnings.filterwarnings('ignore')"
      ],
      "execution_count": null,
      "outputs": [
        {
          "output_type": "stream",
          "text": [
            "Using TensorFlow backend.\n"
          ],
          "name": "stderr"
        }
      ]
    },
    {
      "cell_type": "code",
      "metadata": {
        "colab": {
          "base_uri": "https://localhost:8080/",
          "height": 122
        },
        "id": "XSXH-eRRpAyN",
        "outputId": "35f0c98e-73ca-401c-b3f6-97b504940511"
      },
      "source": [
        "from google.colab import drive\n",
        "drive.mount('/content/drive', force_remount=True)"
      ],
      "execution_count": null,
      "outputs": [
        {
          "output_type": "stream",
          "text": [
            "Go to this URL in a browser: https://accounts.google.com/o/oauth2/auth?client_id=947318989803-6bn6qk8qdgf4n4g3pfee6491hc0brc4i.apps.googleusercontent.com&redirect_uri=urn%3Aietf%3Awg%3Aoauth%3A2.0%3Aoob&scope=email%20https%3A%2F%2Fwww.googleapis.com%2Fauth%2Fdocs.test%20https%3A%2F%2Fwww.googleapis.com%2Fauth%2Fdrive%20https%3A%2F%2Fwww.googleapis.com%2Fauth%2Fdrive.photos.readonly%20https%3A%2F%2Fwww.googleapis.com%2Fauth%2Fpeopleapi.readonly&response_type=code\n",
            "\n",
            "Enter your authorization code:\n",
            "··········\n",
            "Mounted at /content/drive\n"
          ],
          "name": "stdout"
        }
      ]
    },
    {
      "cell_type": "code",
      "metadata": {
        "id": "bcM0vkFT7xwx"
      },
      "source": [
        "#Loading already preprocessed files.\n",
        "x_test=joblib.load('/content/drive/My Drive/FaceForensics++/pickels_101_frames/x_test.pkl')\n",
        "x_train=joblib.load('/content/drive/My Drive/FaceForensics++/pickels_101_frames/x_train.pkl')\n",
        "y_test=joblib.load('/content/drive/My Drive/FaceForensics++/pickels_101_frames/y_test.pkl')\n",
        "y_train=joblib.load('/content/drive/My Drive/FaceForensics++/pickels_101_frames/y_train.pkl')\n",
        "y_cv=joblib.load('/content/drive/My Drive/FaceForensics++/pickels_101_frames/y_cv.pkl')\n",
        "x_cv=joblib.load('/content/drive/My Drive/FaceForensics++/pickels_101_frames/x_cv.pkl')"
      ],
      "execution_count": null,
      "outputs": []
    },
    {
      "cell_type": "code",
      "metadata": {
        "colab": {
          "base_uri": "https://localhost:8080/",
          "height": 68
        },
        "id": "kq6FL94QQBy7",
        "outputId": "8f8d3bd0-3314-4acf-9b4b-1fa35064daa9"
      },
      "source": [
        "print(\"Shape of Train data {}\".format(x_train.shape))\n",
        "print(\"Shape of Cv data {}\".format(x_cv.shape))\n",
        "print(\"Shape of Test data {}\".format(x_test.shape))"
      ],
      "execution_count": null,
      "outputs": [
        {
          "output_type": "stream",
          "text": [
            "Shape of Train data (7676, 299, 299, 3)\n",
            "Shape of Cv data (505, 299, 299, 3)\n",
            "Shape of Test data (2020, 299, 299, 3)\n"
          ],
          "name": "stdout"
        }
      ]
    },
    {
      "cell_type": "code",
      "metadata": {
        "id": "NPihxJqn7xxB"
      },
      "source": [
        "Y_train=to_categorical(y_train)\n",
        "Y_test = to_categorical(y_test)\n",
        "Y_cv = to_categorical(y_cv)"
      ],
      "execution_count": null,
      "outputs": []
    },
    {
      "cell_type": "markdown",
      "metadata": {
        "id": "2UQwQbcjaYbs"
      },
      "source": [
        "### Xception Network"
      ]
    },
    {
      "cell_type": "code",
      "metadata": {
        "colab": {
          "base_uri": "https://localhost:8080/",
          "height": 258
        },
        "id": "gx9nl52tU9Lq",
        "outputId": "9113cb61-fbb2-47a5-b932-93059b1fdc10"
      },
      "source": [
        "#Greedy Layer-Wise Pretraining Learned from : https://machinelearningmastery.com/greedy-layer-wise-pretraining-tutorial/\n",
        "# 1. Pre-training the network with train data on initilizing the \"imagenet\" weights with \"include_top=False\"\n",
        "# 2. After training 3 epochs remove the top most layer\n",
        "# 3. Now add similar top layer and again train and validate\n",
        "\n",
        "\n",
        "Xception_initial=Xception(include_top=False,\n",
        "                 weights='imagenet',\n",
        "                 input_shape=(299,299,3),pooling ='avg',\n",
        "                 )\n",
        "#print(Xception_pre_trained.summary())\n",
        "\n",
        "for layer in Xception_initial.layers:\n",
        "    layer.trainable = True\n",
        "\n",
        "x = Xception_initial.output\n",
        "predicted = Dense(2,activation ='softmax')(x)\n",
        "model_pretrain = Model(input = Xception_initial.input, output = predicted)\n",
        "model_pretrain.compile(loss=keras.losses.categorical_crossentropy,\n",
        "          optimizer=keras.optimizers.Adam(lr = 0.0002),\n",
        "          metrics=['accuracy'])\n",
        "pretraining_Xception =model_pretrain.fit(x_train, Y_train,\n",
        "                                              verbose=1,\n",
        "                                              batch_size=32,  \n",
        "                                              epochs=3)"
      ],
      "execution_count": null,
      "outputs": [
        {
          "output_type": "stream",
          "text": [
            "WARNING:tensorflow:From /usr/local/lib/python3.6/dist-packages/tensorflow_core/python/ops/math_grad.py:1424: where (from tensorflow.python.ops.array_ops) is deprecated and will be removed in a future version.\n",
            "Instructions for updating:\n",
            "Use tf.where in 2.0, which has the same broadcast rule as np.where\n",
            "WARNING:tensorflow:From /usr/local/lib/python3.6/dist-packages/keras/backend/tensorflow_backend.py:1033: The name tf.assign_add is deprecated. Please use tf.compat.v1.assign_add instead.\n",
            "\n",
            "WARNING:tensorflow:From /usr/local/lib/python3.6/dist-packages/keras/backend/tensorflow_backend.py:1020: The name tf.assign is deprecated. Please use tf.compat.v1.assign instead.\n",
            "\n",
            "Epoch 1/3\n",
            "7676/7676 [==============================] - 192s 25ms/step - loss: 0.0344 - acc: 0.9865\n",
            "Epoch 2/3\n",
            "7676/7676 [==============================] - 180s 23ms/step - loss: 0.0040 - acc: 0.9988\n",
            "Epoch 3/3\n",
            "7676/7676 [==============================] - 180s 23ms/step - loss: 1.0305e-04 - acc: 1.0000\n"
          ],
          "name": "stdout"
        }
      ]
    },
    {
      "cell_type": "code",
      "metadata": {
        "colab": {
          "base_uri": "https://localhost:8080/",
          "height": 34
        },
        "id": "nvKBZfYYHo4x",
        "outputId": "f94712dd-0244-45f6-dfad-e959d3627df1"
      },
      "source": [
        "model_pretrain.layers.pop() # Removing topmost layer"
      ],
      "execution_count": null,
      "outputs": [
        {
          "output_type": "execute_result",
          "data": {
            "text/plain": [
              "<keras.layers.core.Dense at 0x7fb32b1f2470>"
            ]
          },
          "metadata": {
            "tags": []
          },
          "execution_count": 7
        }
      ]
    },
    {
      "cell_type": "code",
      "metadata": {
        "id": "zBNHKxeBFOKO"
      },
      "source": [
        "tensorboard=TensorBoard(log_dir='./logs', histogram_freq=3)"
      ],
      "execution_count": null,
      "outputs": []
    },
    {
      "cell_type": "code",
      "metadata": {
        "colab": {
          "base_uri": "https://localhost:8080/",
          "height": 700
        },
        "id": "hetOO8b1htr1",
        "scrolled": false,
        "outputId": "ba5e4458-4907-4347-ba69-3f271d167008"
      },
      "source": [
        "\n",
        "for layer in model_pretrain.layers:\n",
        "    layer.trainable = False\n",
        "x = model_pretrain.output\n",
        "#x= Dense(64,activation ='relu')(x)\n",
        "#x = Dropout(0.2)(x)\n",
        "#x= Dense(64,activation ='relu')(x)\n",
        "#x = Dropout(0.2)(x)\n",
        "#x= BatchNormalization()(x) \n",
        "predicted = Dense(2,activation ='softmax')(x)\n",
        "model_finetune1 = Model(input = model_pretrain.input, output = predicted)\n",
        "model_finetune1.compile(loss=keras.losses.categorical_crossentropy,\n",
        "          optimizer=keras.optimizers.Adam(lr = 0.0002),\n",
        "          metrics=['accuracy'])\n",
        "\n",
        "finetuning1_XceptionNet=model_finetune1.fit(x_train, Y_train,verbose=1,batch_size=16,\n",
        "                     epochs=15,validation_data=(x_cv, Y_cv)\n",
        "                      ,callbacks=[tensorboard]\n",
        "                     )"
      ],
      "execution_count": null,
      "outputs": [
        {
          "output_type": "stream",
          "text": [
            "Train on 7676 samples, validate on 505 samples\n",
            "WARNING:tensorflow:From /usr/local/lib/python3.6/dist-packages/keras/callbacks.py:1120: The name tf.summary.histogram is deprecated. Please use tf.compat.v1.summary.histogram instead.\n",
            "\n",
            "WARNING:tensorflow:From /usr/local/lib/python3.6/dist-packages/keras/callbacks.py:1122: The name tf.summary.merge_all is deprecated. Please use tf.compat.v1.summary.merge_all instead.\n",
            "\n",
            "WARNING:tensorflow:From /usr/local/lib/python3.6/dist-packages/keras/callbacks.py:1125: The name tf.summary.FileWriter is deprecated. Please use tf.compat.v1.summary.FileWriter instead.\n",
            "\n",
            "Epoch 1/15\n",
            "7676/7676 [==============================] - 49s 6ms/step - loss: 0.3975 - acc: 0.9999 - val_loss: 0.3686 - val_acc: 0.9604\n",
            "WARNING:tensorflow:From /usr/local/lib/python3.6/dist-packages/keras/callbacks.py:1265: The name tf.Summary is deprecated. Please use tf.compat.v1.Summary instead.\n",
            "\n",
            "Epoch 2/15\n",
            "7676/7676 [==============================] - 45s 6ms/step - loss: 0.3301 - acc: 0.9997 - val_loss: 0.3222 - val_acc: 0.9624\n",
            "Epoch 3/15\n",
            "7676/7676 [==============================] - 44s 6ms/step - loss: 0.2777 - acc: 0.9997 - val_loss: 0.2855 - val_acc: 0.9663\n",
            "Epoch 4/15\n",
            "7676/7676 [==============================] - 44s 6ms/step - loss: 0.2360 - acc: 0.9996 - val_loss: 0.2559 - val_acc: 0.9663\n",
            "Epoch 5/15\n",
            "7676/7676 [==============================] - 43s 6ms/step - loss: 0.2028 - acc: 0.9993 - val_loss: 0.2319 - val_acc: 0.9663\n",
            "Epoch 6/15\n",
            "7676/7676 [==============================] - 43s 6ms/step - loss: 0.1745 - acc: 0.9997 - val_loss: 0.2120 - val_acc: 0.9663\n",
            "Epoch 7/15\n",
            "7676/7676 [==============================] - 43s 6ms/step - loss: 0.1509 - acc: 0.9999 - val_loss: 0.1956 - val_acc: 0.9663\n",
            "Epoch 8/15\n",
            "7676/7676 [==============================] - 43s 6ms/step - loss: 0.1313 - acc: 0.9997 - val_loss: 0.1820 - val_acc: 0.9663\n",
            "Epoch 9/15\n",
            "7676/7676 [==============================] - 43s 6ms/step - loss: 0.1146 - acc: 0.9996 - val_loss: 0.1708 - val_acc: 0.9663\n",
            "Epoch 10/15\n",
            "7676/7676 [==============================] - 43s 6ms/step - loss: 0.1002 - acc: 0.9996 - val_loss: 0.1614 - val_acc: 0.9663\n",
            "Epoch 11/15\n",
            "7676/7676 [==============================] - 43s 6ms/step - loss: 0.0880 - acc: 0.9996 - val_loss: 0.1538 - val_acc: 0.9663\n",
            "Epoch 12/15\n",
            "7676/7676 [==============================] - 43s 6ms/step - loss: 0.0779 - acc: 0.9993 - val_loss: 0.1477 - val_acc: 0.9663\n",
            "Epoch 13/15\n",
            "7676/7676 [==============================] - 43s 6ms/step - loss: 0.0675 - acc: 0.9997 - val_loss: 0.1428 - val_acc: 0.9663\n",
            "Epoch 14/15\n",
            "7676/7676 [==============================] - 43s 6ms/step - loss: 0.0591 - acc: 0.9999 - val_loss: 0.1388 - val_acc: 0.9663\n",
            "Epoch 15/15\n",
            "7676/7676 [==============================] - 43s 6ms/step - loss: 0.0519 - acc: 0.9999 - val_loss: 0.1359 - val_acc: 0.9663\n"
          ],
          "name": "stdout"
        }
      ]
    },
    {
      "cell_type": "markdown",
      "metadata": {
        "id": "M6WQVnNTAXLQ"
      },
      "source": [
        "#### Train Accuracy"
      ]
    },
    {
      "cell_type": "markdown",
      "metadata": {
        "id": "qYqH8OySAXLQ"
      },
      "source": [
        "![image.png](attachment:image.png)"
      ]
    },
    {
      "cell_type": "markdown",
      "metadata": {
        "id": "_t121RNdAXLR"
      },
      "source": [
        "#### Train Loss"
      ]
    },
    {
      "cell_type": "markdown",
      "metadata": {
        "id": "viaXDtibAXLR"
      },
      "source": [
        "![image.png](attachment:image.png)"
      ]
    },
    {
      "cell_type": "markdown",
      "metadata": {
        "id": "MRtIm9FFAXLR"
      },
      "source": [
        "#### Validation Accuracy"
      ]
    },
    {
      "cell_type": "markdown",
      "metadata": {
        "id": "jku_ogSVAXLS"
      },
      "source": [
        "![image.png](attachment:image.png)"
      ]
    },
    {
      "cell_type": "markdown",
      "metadata": {
        "id": "5vl3V8SBAXLS"
      },
      "source": [
        "#### Validation Loss"
      ]
    },
    {
      "cell_type": "markdown",
      "metadata": {
        "id": "SgSrp8I8AXLS"
      },
      "source": [
        "![image.png](attachment:image.png)"
      ]
    },
    {
      "cell_type": "markdown",
      "metadata": {
        "id": "eVdHzp88AXLS"
      },
      "source": [
        "### Weights histogram plot for only TOP dense layer"
      ]
    },
    {
      "cell_type": "markdown",
      "metadata": {
        "id": "PBwd4YOiAXLS"
      },
      "source": [
        "![image.png](attachment:image.png)"
      ]
    },
    {
      "cell_type": "code",
      "metadata": {
        "id": "bPD_jsYLZJOV"
      },
      "source": [
        "model_finetune1.save(\"model_finetuned_xception.hdf5\")"
      ],
      "execution_count": null,
      "outputs": []
    },
    {
      "cell_type": "code",
      "metadata": {
        "colab": {
          "base_uri": "https://localhost:8080/",
          "height": 51
        },
        "id": "XB6aqzeTYN1R",
        "outputId": "0aa21081-4db6-4c12-9425-94bffd73c0cb"
      },
      "source": [
        "model_finetune1.evaluate(x_train,Y_train)"
      ],
      "execution_count": null,
      "outputs": [
        {
          "output_type": "stream",
          "text": [
            "7676/7676 [==============================] - 40s 5ms/step\n"
          ],
          "name": "stdout"
        },
        {
          "output_type": "execute_result",
          "data": {
            "text/plain": [
              "[0.048198134836863575, 1.0]"
            ]
          },
          "metadata": {
            "tags": []
          },
          "execution_count": 12
        }
      ]
    },
    {
      "cell_type": "code",
      "metadata": {
        "colab": {
          "base_uri": "https://localhost:8080/",
          "height": 51
        },
        "id": "RVdidIZrZiTY",
        "outputId": "ce17156a-7524-4af6-8fb1-cb1c715efefb"
      },
      "source": [
        "model_finetune1.evaluate(x_cv,Y_cv)"
      ],
      "execution_count": null,
      "outputs": [
        {
          "output_type": "stream",
          "text": [
            "505/505 [==============================] - 3s 5ms/step\n"
          ],
          "name": "stdout"
        },
        {
          "output_type": "execute_result",
          "data": {
            "text/plain": [
              "[0.13589911885043182, 0.9663366336633663]"
            ]
          },
          "metadata": {
            "tags": []
          },
          "execution_count": 11
        }
      ]
    },
    {
      "cell_type": "code",
      "metadata": {
        "colab": {
          "base_uri": "https://localhost:8080/",
          "height": 51
        },
        "id": "blWq2HlsWcd5",
        "outputId": "0f910251-368d-4f52-d904-564fe700f7ac"
      },
      "source": [
        "#Unseen data\n",
        "model_finetune1.evaluate(x_test,Y_test)"
      ],
      "execution_count": null,
      "outputs": [
        {
          "output_type": "stream",
          "text": [
            "2020/2020 [==============================] - 12s 6ms/step\n"
          ],
          "name": "stdout"
        },
        {
          "output_type": "execute_result",
          "data": {
            "text/plain": [
              "[0.07145962482041651, 0.9910891089108911]"
            ]
          },
          "metadata": {
            "tags": []
          },
          "execution_count": 10
        }
      ]
    }
  ]
}